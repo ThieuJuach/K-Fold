{
  "nbformat": 4,
  "nbformat_minor": 0,
  "metadata": {
    "colab": {
      "provenance": []
    },
    "kernelspec": {
      "name": "python3",
      "display_name": "Python 3"
    },
    "language_info": {
      "name": "python"
    }
  },
  "cells": [
    {
      "cell_type": "code",
      "execution_count": 1,
      "metadata": {
        "colab": {
          "base_uri": "https://localhost:8080/"
        },
        "id": "vaogAs8EfZGv",
        "outputId": "33c8fec0-49b5-4db0-d392-d024efbdc244"
      },
      "outputs": [
        {
          "output_type": "stream",
          "name": "stderr",
          "text": [
            "/usr/local/lib/python3.10/dist-packages/sklearn/datasets/_openml.py:968: FutureWarning: The default value of `parser` will change from `'liac-arff'` to `'auto'` in 1.4. You can set `parser='auto'` to silence this warning. Therefore, an `ImportError` will be raised from 1.4 if the dataset is dense and pandas is not installed. Note that the pandas parser may return different data types. See the Notes Section in fetch_openml's API doc for details.\n",
            "  warn(\n"
          ]
        }
      ],
      "source": [
        "from sklearn.datasets import fetch_openml\n",
        "from sklearn.model_selection import cross_val_score\n",
        "mnist = fetch_openml('mnist_784', version=1, return_X_y=True)"
      ]
    },
    {
      "cell_type": "code",
      "source": [
        "from sklearn.model_selection import KFold\n",
        "kfold=KFold(n_splits=10, random_state=11, shuffle=True)\n",
        "kfold"
      ],
      "metadata": {
        "colab": {
          "base_uri": "https://localhost:8080/"
        },
        "id": "VuxJCWi99JVR",
        "outputId": "5ee4ffc1-20a1-493a-94e4-28f463be8c26"
      },
      "execution_count": 2,
      "outputs": [
        {
          "output_type": "execute_result",
          "data": {
            "text/plain": [
              "KFold(n_splits=10, random_state=11, shuffle=True)"
            ]
          },
          "metadata": {},
          "execution_count": 2
        }
      ]
    },
    {
      "cell_type": "code",
      "source": [
        "KFold(n_splits=10, random_state=11, shuffle=True)"
      ],
      "metadata": {
        "colab": {
          "base_uri": "https://localhost:8080/"
        },
        "id": "smatbG3_9paT",
        "outputId": "ef64b7cc-1b1a-4073-aac9-3abe24cbc105"
      },
      "execution_count": 3,
      "outputs": [
        {
          "output_type": "execute_result",
          "data": {
            "text/plain": [
              "KFold(n_splits=10, random_state=11, shuffle=True)"
            ]
          },
          "metadata": {},
          "execution_count": 3
        }
      ]
    },
    {
      "cell_type": "code",
      "source": [
        "from sklearn.neighbors import KNeighborsClassifier\n",
        "knn = KNeighborsClassifier()"
      ],
      "metadata": {
        "id": "B27bxE2a95lO"
      },
      "execution_count": 4,
      "outputs": []
    },
    {
      "cell_type": "code",
      "source": [
        "print(mnist)"
      ],
      "metadata": {
        "colab": {
          "base_uri": "https://localhost:8080/"
        },
        "id": "op3quvp3JK2M",
        "outputId": "bed8ea27-6b00-4360-9c57-0a1047b8e2b3"
      },
      "execution_count": 5,
      "outputs": [
        {
          "output_type": "stream",
          "name": "stdout",
          "text": [
            "(       pixel1  pixel2  pixel3  pixel4  pixel5  pixel6  pixel7  pixel8  pixel9  \\\n",
            "0         0.0     0.0     0.0     0.0     0.0     0.0     0.0     0.0     0.0   \n",
            "1         0.0     0.0     0.0     0.0     0.0     0.0     0.0     0.0     0.0   \n",
            "2         0.0     0.0     0.0     0.0     0.0     0.0     0.0     0.0     0.0   \n",
            "3         0.0     0.0     0.0     0.0     0.0     0.0     0.0     0.0     0.0   \n",
            "4         0.0     0.0     0.0     0.0     0.0     0.0     0.0     0.0     0.0   \n",
            "...       ...     ...     ...     ...     ...     ...     ...     ...     ...   \n",
            "69995     0.0     0.0     0.0     0.0     0.0     0.0     0.0     0.0     0.0   \n",
            "69996     0.0     0.0     0.0     0.0     0.0     0.0     0.0     0.0     0.0   \n",
            "69997     0.0     0.0     0.0     0.0     0.0     0.0     0.0     0.0     0.0   \n",
            "69998     0.0     0.0     0.0     0.0     0.0     0.0     0.0     0.0     0.0   \n",
            "69999     0.0     0.0     0.0     0.0     0.0     0.0     0.0     0.0     0.0   \n",
            "\n",
            "       pixel10  ...  pixel775  pixel776  pixel777  pixel778  pixel779  \\\n",
            "0          0.0  ...       0.0       0.0       0.0       0.0       0.0   \n",
            "1          0.0  ...       0.0       0.0       0.0       0.0       0.0   \n",
            "2          0.0  ...       0.0       0.0       0.0       0.0       0.0   \n",
            "3          0.0  ...       0.0       0.0       0.0       0.0       0.0   \n",
            "4          0.0  ...       0.0       0.0       0.0       0.0       0.0   \n",
            "...        ...  ...       ...       ...       ...       ...       ...   \n",
            "69995      0.0  ...       0.0       0.0       0.0       0.0       0.0   \n",
            "69996      0.0  ...       0.0       0.0       0.0       0.0       0.0   \n",
            "69997      0.0  ...       0.0       0.0       0.0       0.0       0.0   \n",
            "69998      0.0  ...       0.0       0.0       0.0       0.0       0.0   \n",
            "69999      0.0  ...       0.0       0.0       0.0       0.0       0.0   \n",
            "\n",
            "       pixel780  pixel781  pixel782  pixel783  pixel784  \n",
            "0           0.0       0.0       0.0       0.0       0.0  \n",
            "1           0.0       0.0       0.0       0.0       0.0  \n",
            "2           0.0       0.0       0.0       0.0       0.0  \n",
            "3           0.0       0.0       0.0       0.0       0.0  \n",
            "4           0.0       0.0       0.0       0.0       0.0  \n",
            "...         ...       ...       ...       ...       ...  \n",
            "69995       0.0       0.0       0.0       0.0       0.0  \n",
            "69996       0.0       0.0       0.0       0.0       0.0  \n",
            "69997       0.0       0.0       0.0       0.0       0.0  \n",
            "69998       0.0       0.0       0.0       0.0       0.0  \n",
            "69999       0.0       0.0       0.0       0.0       0.0  \n",
            "\n",
            "[70000 rows x 784 columns], 0        5\n",
            "1        0\n",
            "2        4\n",
            "3        1\n",
            "4        9\n",
            "        ..\n",
            "69995    2\n",
            "69996    3\n",
            "69997    4\n",
            "69998    5\n",
            "69999    6\n",
            "Name: class, Length: 70000, dtype: category\n",
            "Categories (10, object): ['0', '1', '2', '3', ..., '6', '7', '8', '9'])\n"
          ]
        }
      ]
    },
    {
      "cell_type": "code",
      "source": [
        "from sklearn.model_selection import cross_val_score\n",
        "scores = cross_val_score(knn, mnist[0], mnist[1], cv=kfold)"
      ],
      "metadata": {
        "id": "ITBJESZWJgvV"
      },
      "execution_count": 10,
      "outputs": []
    },
    {
      "cell_type": "code",
      "source": [
        "print(f'Mean accuracy: {scores.mean():2%}')"
      ],
      "metadata": {
        "colab": {
          "base_uri": "https://localhost:8080/"
        },
        "id": "yvzMARYRMPUC",
        "outputId": "5c690411-4bd8-4414-85d3-6d3a99ac80ff"
      },
      "execution_count": 9,
      "outputs": [
        {
          "output_type": "stream",
          "name": "stdout",
          "text": [
            "Mean accuracy: 97.255714%\n"
          ]
        }
      ]
    },
    {
      "cell_type": "code",
      "source": [
        "print(f'Accuracy St Dev: {scores.std():2%}')"
      ],
      "metadata": {
        "colab": {
          "base_uri": "https://localhost:8080/"
        },
        "id": "KP8W7pa4Pt99",
        "outputId": "85aa53fb-d029-4256-9558-9e316bfb65b1"
      },
      "execution_count": 11,
      "outputs": [
        {
          "output_type": "stream",
          "name": "stdout",
          "text": [
            "Accuracy St Dev: 0.176872%\n"
          ]
        }
      ]
    }
  ]
}